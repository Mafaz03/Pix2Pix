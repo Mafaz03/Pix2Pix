{
 "cells": [
  {
   "cell_type": "code",
   "execution_count": 1,
   "metadata": {},
   "outputs": [],
   "source": [
    "import numpy as np\n",
    "from PIL import Image\n",
    "import os\n",
    "from torch.utils.data import dataset\n",
    "import config\n",
    "\n",
    "class MapDataset(dataset):\n",
    "    def __init__(self, root_dir):\n",
    "        super().__init__()\n",
    "\n",
    "        self.root_dir = root_dir\n",
    "        self.list_files = os.listdir(root_dir)\n",
    "        print(self.list_files)\n",
    "    \n",
    "    def __len__(self):\n",
    "        return len(self.list_files)\n",
    "    \n",
    "    def __getitem__(self, index):\n",
    "        image_path = self.list_files[index]\n",
    "        file_path = os.path.join(self.root_dir, image_path)\n",
    "        image = np.array(Image.open(file_path))\n",
    "        input_image = image[:, :600, :]\n",
    "        target_image = image[:, 600:, :]\n",
    "\n",
    "        augmentations = config.both_transform(image=input_image, image0=target_image)\n",
    "        input_image = augmentations[\"image\"]\n",
    "        target_image = augmentations[\"image0\"]\n",
    "\n",
    "        input_image = config.transform_only_input(image=input_image)[\"image\"]\n",
    "        target_image = config.transform_only_mask(image=target_image)[\"image\"]"
   ]
  }
 ],
 "metadata": {
  "kernelspec": {
   "display_name": "Python 3",
   "language": "python",
   "name": "python3"
  },
  "language_info": {
   "codemirror_mode": {
    "name": "ipython",
    "version": 3
   },
   "file_extension": ".py",
   "mimetype": "text/x-python",
   "name": "python",
   "nbconvert_exporter": "python",
   "pygments_lexer": "ipython3",
   "version": "3.11.5"
  }
 },
 "nbformat": 4,
 "nbformat_minor": 2
}
